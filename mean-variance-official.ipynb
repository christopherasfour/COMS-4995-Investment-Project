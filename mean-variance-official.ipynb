{
 "cells": [
  {
   "cell_type": "code",
   "execution_count": 11,
   "metadata": {},
   "outputs": [],
   "source": [
    "import yfinance as yf\n",
    "import datetime\n",
    "import pandas as pd\n",
    "import numpy as np\n",
    "from sklearn.ensemble import RandomForestRegressor\n",
    "from sklearn.linear_model import LogisticRegression\n",
    "from sklearn.ensemble import GradientBoostingRegressor\n",
    "from sklearn.neural_network import MLPRegressor\n",
    "from sklearn.preprocessing import MinMaxScaler\n",
    "from sklearn.svm import SVC\n",
    "from pypfopt.efficient_frontier import EfficientFrontier\n",
    "from pypfopt import risk_models, expected_returns"
   ]
  },
  {
   "cell_type": "code",
   "execution_count": 12,
   "metadata": {},
   "outputs": [],
   "source": [
    "import warnings\n",
    "\n",
    "# Disable all warnings\n",
    "warnings.filterwarnings(\"ignore\")"
   ]
  },
  {
   "cell_type": "code",
   "execution_count": 13,
   "metadata": {},
   "outputs": [],
   "source": [
    "# Define a pre-list set of stock tickers that we would like to invest in\n",
    "tickers = ['AAPL', 'AMD', 'AMZN', 'CCJ', 'COST', 'GOOG', 'GS', 'JPM', 'LLY', 'META', 'MSFT', 'NEE', 'PFE', 'SAP', 'WMT']\n",
    "measurement_days = 10\n",
    "remaining_days = 30-measurement_days"
   ]
  },
  {
   "cell_type": "code",
   "execution_count": 14,
   "metadata": {},
   "outputs": [
    {
     "name": "stdout",
     "output_type": "stream",
     "text": [
      "[*********************100%***********************]  1 of 1 completed\n",
      "AAPL\n",
      "[*********************100%***********************]  1 of 1 completed\n",
      "AMD\n",
      "[*********************100%***********************]  1 of 1 completed\n",
      "AMZN\n",
      "[*********************100%***********************]  1 of 1 completed\n",
      "CCJ\n",
      "[*********************100%***********************]  1 of 1 completed\n",
      "COST\n",
      "[*********************100%***********************]  1 of 1 completed\n",
      "GOOG\n",
      "[*********************100%***********************]  1 of 1 completed\n",
      "GS\n",
      "[*********************100%***********************]  1 of 1 completed\n",
      "JPM\n",
      "[*********************100%***********************]  1 of 1 completed\n",
      "LLY\n",
      "[*********************100%***********************]  1 of 1 completed\n",
      "META\n",
      "[*********************100%***********************]  1 of 1 completed\n",
      "MSFT\n",
      "[*********************100%***********************]  1 of 1 completed\n",
      "NEE\n",
      "[*********************100%***********************]  1 of 1 completed\n",
      "PFE\n",
      "[*********************100%***********************]  1 of 1 completed\n",
      "SAP\n",
      "[*********************100%***********************]  1 of 1 completed\n",
      "WMT\n"
     ]
    }
   ],
   "source": [
    "# Get 5 year adjusted close prices for all stocks as per instruction\n",
    "\n",
    "stock_prices = {}\n",
    "short_window_prices = {}\n",
    "future_prices = {}\n",
    "\n",
    "for ticker in tickers:\n",
    "    data = yf.download(ticker,period=\"5y\")\n",
    "    print(ticker)\n",
    "    stock_prices[ticker] = data['Adj Close'].tolist()\n",
    "    stock_data = stock_prices[ticker]\n",
    "    prices_x = [stock_data[i:i+measurement_days] for i in range(len(stock_data)-remaining_days)]\n",
    "    prices_y = [stock_data[i+measurement_days] for i in range(measurement_days,len(stock_data)-measurement_days)]\n",
    "\n",
    "    prices_test = [stock_data[i:i+measurement_days] for i in range(len(stock_data)-remaining_days,len(stock_data)-measurement_days)]\n",
    "\n",
    "    short_window_prices[ticker] = (prices_x, prices_y, prices_test)\n",
    "\n",
    "    rf = RandomForestRegressor()\n",
    "    rf.fit(prices_x,prices_y)\n",
    "    # Predict stock price for 10 future days\n",
    "    future_prices[ticker] = rf.predict(prices_test)\n",
    "\n"
   ]
  },
  {
   "cell_type": "code",
   "execution_count": 15,
   "metadata": {},
   "outputs": [
    {
     "name": "stdout",
     "output_type": "stream",
     "text": [
      "AAPL   -0.000861\n",
      "AMD    -0.664725\n",
      "AMZN   -1.353119\n",
      "CCJ    -0.233142\n",
      "COST    0.121496\n",
      "GOOG   -1.134059\n",
      "GS     -0.611966\n",
      "JPM    -1.198057\n",
      "LLY     0.014847\n",
      "META   -0.477784\n",
      "MSFT    0.122610\n",
      "NEE    -0.669235\n",
      "PFE    -0.965398\n",
      "SAP    -0.425827\n",
      "WMT    -0.295725\n",
      "Name: mkt, dtype: float64\n",
      "OrderedDict([('AAPL', 0.09043), ('AMD', 0.06311), ('AMZN', 0.05), ('CCJ', 0.06853), ('COST', 0.08097), ('GOOG', 0.05), ('GS', 0.0588), ('JPM', 0.05), ('LLY', 0.09084), ('META', 0.06386), ('MSFT', 0.09415), ('NEE', 0.05137), ('PFE', 0.05), ('SAP', 0.06965), ('WMT', 0.06829)])\n",
      "Expected annual return: -41.9%\n",
      "Annual volatility: 7.3%\n",
      "Sharpe Ratio: -5.97\n",
      "(-0.41853709892559426, 0.0734739410300956, -5.968607274597745)\n"
     ]
    }
   ],
   "source": [
    "future_prices = pd.DataFrame(future_prices)\n",
    "\n",
    "# Construct covariance matrix of future stock prices\n",
    "# cov_matrix = risk_models.sample_cov(future_prices)\n",
    "S = risk_models.CovarianceShrinkage(future_prices).ledoit_wolf()\n",
    "# plotting.plot_covariance(S, plot_correlation=True)\n",
    "\n",
    "# Use capm to find expected returns on future prices\n",
    "mu = expected_returns.capm_return(future_prices)\n",
    "print(mu)\n",
    "# Do mean variance optimization using efficient frontier\n",
    "rf_ef = EfficientFrontier(mu, S, weight_bounds=(0.05, 0.1))\n",
    "rf_ef.min_volatility()\n",
    "weights = rf_ef.clean_weights()\n",
    "print(weights)\n",
    "\n",
    "print(rf_ef.portfolio_performance(verbose=True))"
   ]
  },
  {
   "cell_type": "code",
   "execution_count": 16,
   "metadata": {},
   "outputs": [
    {
     "name": "stdout",
     "output_type": "stream",
     "text": [
      "AAPL    0.018616\n",
      "AMD    -1.475716\n",
      "AMZN   -0.162857\n",
      "CCJ    -3.171556\n",
      "COST   -0.129988\n",
      "GOOG   -0.553733\n",
      "GS     -0.253410\n",
      "JPM    -1.065257\n",
      "LLY     0.024606\n",
      "META   -0.035766\n",
      "MSFT    0.091550\n",
      "NEE    -0.475177\n",
      "PFE    -0.524315\n",
      "SAP    -0.369805\n",
      "WMT    -0.680163\n",
      "Name: mkt, dtype: float64\n",
      "OrderedDict([('AAPL', 0.1), ('AMD', 0.05), ('AMZN', 0.0609), ('CCJ', 0.05), ('COST', 0.05044), ('GOOG', 0.05), ('GS', 0.1), ('JPM', 0.05), ('LLY', 0.1), ('META', 0.1), ('MSFT', 0.08866), ('NEE', 0.05), ('PFE', 0.05), ('SAP', 0.05), ('WMT', 0.05)])\n",
      "Expected annual return: -44.9%\n",
      "Annual volatility: 8.3%\n",
      "Sharpe Ratio: -5.63\n",
      "(-0.44873914392089226, 0.08323091207505513, -5.631791509123406)\n"
     ]
    }
   ],
   "source": [
    "future_prices = {}\n",
    "\n",
    "for ticker in tickers:\n",
    "    # data = yf.download(ticker, period=\"5y\")\n",
    "    # print(ticker)\n",
    "    # stock_prices[ticker] = data['Adj Close'].tolist()\n",
    "    # stock_data = stock_prices[ticker]\n",
    "    # prices_x = [stock_data[i:i + measurement_days] for i in range(len(stock_data) - remaining_days)]\n",
    "    # prices_y = [stock_data[i + measurement_days] for i in range(measurement_days, len(stock_data) - measurement_days)]\n",
    "\n",
    "    # prices_test = [stock_data[i:i + measurement_days] for i in\n",
    "    #                range(len(stock_data) - remaining_days, len(stock_data) - measurement_days)]\n",
    "\n",
    "    # short_window_prices[ticker] = (prices_x, prices_y, prices_test)\n",
    "\n",
    "    gb = GradientBoostingRegressor()\n",
    "    gb.fit(short_window_prices[ticker][0], short_window_prices[ticker][1])\n",
    "    # Predict stock price for 10 future days\n",
    "    future_prices[ticker] = gb.predict(short_window_prices[ticker][2])\n",
    "\n",
    "future_prices = pd.DataFrame(future_prices)\n",
    "\n",
    "# Convert future prices DataFrame to numpy array\n",
    "future_prices_array = future_prices.to_numpy()\n",
    "\n",
    "# Construct covariance matrix of future stock prices\n",
    "S = risk_models.sample_cov(future_prices_array)\n",
    "\n",
    "# Use CAPM to find expected returns on future prices\n",
    "mu = expected_returns.capm_return(future_prices)\n",
    "print(mu)\n",
    "\n",
    "# Do mean-variance optimization using efficient frontier\n",
    "gb_ef = EfficientFrontier(mu, S, weight_bounds=(0.05, 0.1))\n",
    "weights = gb_ef.min_volatility()\n",
    "cleaned_weights = gb_ef.clean_weights()\n",
    "\n",
    "# Print the optimized weights\n",
    "print(cleaned_weights)\n",
    "print(gb_ef.portfolio_performance(verbose=True))\n"
   ]
  },
  {
   "cell_type": "code",
   "execution_count": 17,
   "metadata": {},
   "outputs": [
    {
     "name": "stdout",
     "output_type": "stream",
     "text": [
      "OrderedDict([('AAPL', 0.05), ('AMD', 0.05), ('AMZN', 0.1), ('CCJ', 0.05), ('COST', 0.07149), ('GOOG', 0.05), ('GS', 0.05), ('JPM', 0.05), ('LLY', 0.1), ('META', 0.07851), ('MSFT', 0.05), ('NEE', 0.1), ('PFE', 0.05), ('SAP', 0.05), ('WMT', 0.1)])\n"
     ]
    }
   ],
   "source": [
    "future_prices = {}\n",
    "\n",
    "for ticker in tickers:\n",
    "\n",
    "    nn = MLPRegressor(hidden_layer_sizes=(100, 100), max_iter=1000)  # Example configuration, you can adjust this\n",
    "    nn.fit(short_window_prices[ticker][0], short_window_prices[ticker][1])\n",
    "    # Predict stock price for 10 future days\n",
    "    future_prices[ticker] = nn.predict(short_window_prices[ticker][2])\n",
    "\n",
    "future_prices = pd.DataFrame(future_prices)\n",
    "\n",
    "# Convert future prices DataFrame to numpy array\n",
    "future_prices_array = future_prices.to_numpy()\n",
    "\n",
    "# Construct covariance matrix of future stock prices\n",
    "S = risk_models.sample_cov(future_prices_array)\n",
    "\n",
    "# Use CAPM to find expected returns on future prices\n",
    "mu = expected_returns.capm_return(future_prices)\n",
    "\n",
    "# Do mean-variance optimization using efficient frontier\n",
    "nn_ef = EfficientFrontier(mu, S, weight_bounds=(0.05, 0.1))\n",
    "weights = nn_ef.min_volatility()\n",
    "cleaned_weights = nn_ef.clean_weights()\n",
    "\n",
    "# Print the optimized weights\n",
    "print(cleaned_weights)\n"
   ]
  },
  {
   "cell_type": "code",
   "execution_count": 18,
   "metadata": {},
   "outputs": [
    {
     "name": "stdout",
     "output_type": "stream",
     "text": [
      "Expected annual return: -41.9%\n",
      "Annual volatility: 7.3%\n",
      "Sharpe Ratio: -5.97\n",
      "\n",
      "\n",
      "Expected annual return: -44.9%\n",
      "Annual volatility: 8.3%\n",
      "Sharpe Ratio: -5.63\n",
      "\n",
      "\n",
      "Expected annual return: -33.3%\n",
      "Annual volatility: 3.6%\n",
      "Sharpe Ratio: -9.79\n",
      "\n",
      "\n"
     ]
    }
   ],
   "source": [
    "rf_ef.portfolio_performance(verbose=True)\n",
    "print(\"\\n\")\n",
    "gb_ef.portfolio_performance(verbose=True)\n",
    "print(\"\\n\")\n",
    "nn_ef.portfolio_performance(verbose=True)\n",
    "print(\"\\n\")\n"
   ]
  },
  {
   "cell_type": "code",
   "execution_count": 1,
   "metadata": {},
   "outputs": [
    {
     "name": "stdout",
     "output_type": "stream",
     "text": [
      "[*********************100%***********************]  1 of 1 completed\n",
      "[*********************100%***********************]  1 of 1 completed\n",
      "[*********************100%***********************]  1 of 1 completed\n",
      "[*********************100%***********************]  1 of 1 completed\n",
      "[*********************100%***********************]  1 of 1 completed\n",
      "[*********************100%***********************]  1 of 1 completed\n",
      "[*********************100%***********************]  1 of 1 completed\n",
      "[*********************100%***********************]  1 of 1 completed\n",
      "[*********************100%***********************]  1 of 1 completed\n",
      "[*********************100%***********************]  1 of 1 completed\n",
      "[*********************100%***********************]  1 of 1 completed\n",
      "[*********************100%***********************]  1 of 1 completed\n",
      "[*********************100%***********************]  1 of 1 completed\n",
      "[*********************100%***********************]  1 of 1 completed\n",
      "[*********************100%***********************]  1 of 1 completed\n",
      "Random Forest: Best Score = -112.97649220798205, Best Params = {'n_estimators': 200}\n",
      "Gradient Boosting: Best Score = -108.41981777404672, Best Params = {'n_estimators': 50}\n"
     ]
    },
    {
     "name": "stderr",
     "output_type": "stream",
     "text": [
      "c:\\Python310\\lib\\site-packages\\sklearn\\neural_network\\_multilayer_perceptron.py:686: ConvergenceWarning: Stochastic Optimizer: Maximum iterations (200) reached and the optimization hasn't converged yet.\n",
      "  warnings.warn(\n",
      "c:\\Python310\\lib\\site-packages\\sklearn\\neural_network\\_multilayer_perceptron.py:686: ConvergenceWarning: Stochastic Optimizer: Maximum iterations (200) reached and the optimization hasn't converged yet.\n",
      "  warnings.warn(\n",
      "c:\\Python310\\lib\\site-packages\\sklearn\\neural_network\\_multilayer_perceptron.py:686: ConvergenceWarning: Stochastic Optimizer: Maximum iterations (200) reached and the optimization hasn't converged yet.\n",
      "  warnings.warn(\n"
     ]
    },
    {
     "name": "stdout",
     "output_type": "stream",
     "text": [
      "Neural Network: Best Score = -30.718828009402245, Best Params = {'hidden_layer_sizes': (100,)}\n",
      "\n",
      "Best Model: Neural Network\n",
      "MLPRegressor()\n",
      "Expected annual return: -0.5%\n",
      "Annual volatility: 0.9%\n",
      "Sharpe Ratio: -2.70\n"
     ]
    },
    {
     "name": "stderr",
     "output_type": "stream",
     "text": [
      "c:\\Python310\\lib\\site-packages\\pypfopt\\risk_models.py:167: RuntimeWarning: data is not in a dataframe\n",
      "  warnings.warn(\"data is not in a dataframe\", RuntimeWarning)\n"
     ]
    },
    {
     "data": {
      "text/plain": [
       "(-0.0049648857484028, 0.00924654716517848, -2.699914389926861)"
      ]
     },
     "execution_count": 1,
     "metadata": {},
     "output_type": "execute_result"
    }
   ],
   "source": [
    "import yfinance as yf\n",
    "import pandas as pd\n",
    "import numpy as np\n",
    "from sklearn.ensemble import RandomForestRegressor, GradientBoostingRegressor\n",
    "from sklearn.neural_network import MLPRegressor\n",
    "from sklearn.model_selection import GridSearchCV\n",
    "from pypfopt import risk_models, expected_returns\n",
    "from pypfopt.efficient_frontier import EfficientFrontier\n",
    "\n",
    "tickers = ['AAPL', 'AMD', 'AMZN', 'CCJ', 'COST', 'GOOG', 'GS', 'JPM', 'LLY', 'META', 'MSFT', 'NEE', 'PFE', 'SAP', 'WMT']\n",
    "measurement_days = 10\n",
    "remaining_days = 30 - measurement_days\n",
    "\n",
    "stock_prices = {}\n",
    "short_window_prices = {}\n",
    "future_prices = {}\n",
    "\n",
    "for ticker in tickers:\n",
    "    data = yf.download(ticker, period=\"5y\")\n",
    "    stock_prices[ticker] = data['Adj Close'].tolist()\n",
    "    stock_data = stock_prices[ticker]\n",
    "    prices_x = [stock_data[i:i + measurement_days] for i in range(len(stock_data) - remaining_days)]\n",
    "    prices_y = [stock_data[i + measurement_days] for i in range(measurement_days, len(stock_data) - measurement_days)]\n",
    "\n",
    "    prices_test = [stock_data[i:i + measurement_days] for i in\n",
    "                   range(len(stock_data) - remaining_days, len(stock_data) - measurement_days)]\n",
    "\n",
    "    short_window_prices[ticker] = (prices_x, prices_y, prices_test)\n",
    "\n",
    "# Define the models to evaluate\n",
    "models = [\n",
    "    ('Random Forest', RandomForestRegressor(), {'n_estimators': [50, 100, 200]}),\n",
    "    ('Gradient Boosting', GradientBoostingRegressor(), {'n_estimators': [50, 100, 200]}),\n",
    "    ('Neural Network', MLPRegressor(), {'hidden_layer_sizes': [(100,), (100, 100), (200, 100)]})\n",
    "]\n",
    "\n",
    "best_model = None\n",
    "best_model_name = ''\n",
    "best_score = float('-inf')\n",
    "\n",
    "# Perform grid search and evaluate each model\n",
    "for model_name, model, param_grid in models:\n",
    "    grid_search = GridSearchCV(model, param_grid, cv=5, scoring='neg_mean_squared_error')\n",
    "    grid_search.fit(prices_x, prices_y)\n",
    "    score = grid_search.best_score_\n",
    "    print(f\"{model_name}: Best Score = {score}, Best Params = {grid_search.best_params_}\")\n",
    "    if score > best_score:\n",
    "        best_score = score\n",
    "        best_model = grid_search.best_estimator_\n",
    "        best_model_name = model_name\n",
    "\n",
    "print(f\"\\nBest Model: {best_model_name}\")\n",
    "print(best_model)\n",
    "\n",
    "# Predict stock price for 10 future days using the best model\n",
    "future_prices = {}\n",
    "for ticker, (_, _, prices_test) in short_window_prices.items():\n",
    "    future_prices[ticker] = best_model.predict(prices_test)\n",
    "\n",
    "future_prices = pd.DataFrame(future_prices)\n",
    "\n",
    "# Convert future prices DataFrame to numpy array\n",
    "future_prices_array = future_prices.to_numpy()\n",
    "\n",
    "# Construct covariance matrix of future stock prices\n",
    "S = risk_models.sample_cov(future_prices_array)\n",
    "\n",
    "# Use CAPM to find expected returns on future prices\n",
    "mu = expected_returns.capm_return(future_prices)\n",
    "\n",
    "# Do mean-variance optimization using efficient frontier\n",
    "ef = EfficientFrontier(mu, S)\n",
    "weights = ef.min_volatility()\n",
    "ef.portfolio_performance(verbose=True)\n"
   ]
  }
 ],
 "metadata": {
  "kernelspec": {
   "display_name": "Python 3",
   "language": "python",
   "name": "python3"
  },
  "language_info": {
   "codemirror_mode": {
    "name": "ipython",
    "version": 3
   },
   "file_extension": ".py",
   "mimetype": "text/x-python",
   "name": "python",
   "nbconvert_exporter": "python",
   "pygments_lexer": "ipython3",
   "version": "3.10.1"
  },
  "orig_nbformat": 4
 },
 "nbformat": 4,
 "nbformat_minor": 2
}
