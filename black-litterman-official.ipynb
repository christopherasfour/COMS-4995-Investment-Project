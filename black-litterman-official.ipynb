{
 "cells": [
  {
   "cell_type": "code",
   "execution_count": 84,
   "metadata": {},
   "outputs": [],
   "source": [
    "import yfinance as yf\n",
    "import datetime\n",
    "import pandas as pd\n",
    "import numpy as np\n",
    "from sklearn.ensemble import RandomForestRegressor\n",
    "from sklearn.linear_model import LogisticRegression\n",
    "from sklearn.svm import SVC\n",
    "from pypfopt import BlackLittermanModel, plotting\n",
    "from pypfopt import black_litterman, risk_models, objective_functions\n",
    "from pypfopt.efficient_frontier import EfficientFrontier\n",
    "from pypfopt import risk_models, expected_returns"
   ]
  },
  {
   "cell_type": "code",
   "execution_count": 85,
   "metadata": {},
   "outputs": [],
   "source": [
    "import warnings\n",
    "\n",
    "# Disable all warnings\n",
    "warnings.filterwarnings(\"ignore\")"
   ]
  },
  {
   "cell_type": "code",
   "execution_count": 86,
   "metadata": {},
   "outputs": [],
   "source": [
    "# Define the list of stock tickers\n",
    "tickers = ['AAPL', 'AMD', 'AMZN', 'CCJ', 'COST', 'GOOG', 'GS', 'JPM', 'LLY', 'META', 'MSFT', 'NEE', 'PFE', 'SAP', 'WMT']\n",
    "measurement_days = 10\n",
    "remaining_days = 30-measurement_days"
   ]
  },
  {
   "cell_type": "code",
   "execution_count": 87,
   "metadata": {},
   "outputs": [
    {
     "name": "stdout",
     "output_type": "stream",
     "text": [
      "[*********************100%***********************]  1 of 1 completed\n",
      "AAPL\n",
      "[*********************100%***********************]  1 of 1 completed\n",
      "AMD\n",
      "[*********************100%***********************]  1 of 1 completed\n",
      "AMZN\n",
      "[*********************100%***********************]  1 of 1 completed\n",
      "CCJ\n",
      "[*********************100%***********************]  1 of 1 completed\n",
      "COST\n",
      "[*********************100%***********************]  1 of 1 completed\n",
      "GOOG\n",
      "[*********************100%***********************]  1 of 1 completed\n",
      "GS\n",
      "[*********************100%***********************]  1 of 1 completed\n",
      "JPM\n",
      "[*********************100%***********************]  1 of 1 completed\n",
      "LLY\n",
      "[*********************100%***********************]  1 of 1 completed\n",
      "META\n",
      "[*********************100%***********************]  1 of 1 completed\n",
      "MSFT\n",
      "[*********************100%***********************]  1 of 1 completed\n",
      "NEE\n",
      "[*********************100%***********************]  1 of 1 completed\n",
      "PFE\n",
      "[*********************100%***********************]  1 of 1 completed\n",
      "SAP\n",
      "[*********************100%***********************]  1 of 1 completed\n",
      "WMT\n"
     ]
    }
   ],
   "source": [
    "# Fit non linear ML models to predict stock returns into future\n",
    "\n",
    "stock_returns = {}\n",
    "stock_prices = {}\n",
    "future_returns = {}\n",
    "short_window_returns = {}\n",
    "\n",
    "for ticker in tickers:\n",
    "    data = yf.download(ticker,period=\"5y\")\n",
    "    print(ticker)\n",
    "    returns = ((data['Adj Close'] / data['Adj Close'].shift(1))-1).dropna().tolist()\n",
    "    stock_returns[ticker] = returns\n",
    "\n",
    "    stock_prices[ticker] = data['Adj Close'].values\n",
    "\n",
    "    \n",
    "    prices_x = [returns[i:i+measurement_days] for i in range(len(returns)-remaining_days)]\n",
    "    prices_y = [returns[i+measurement_days] for i in range(measurement_days,len(returns)-measurement_days)]\n",
    "\n",
    "    prices_test = [returns[i:i+measurement_days] for i in range(len(returns)-remaining_days,len(returns)-measurement_days)]\n",
    "\n",
    "    short_window_returns[ticker] = (prices_x, prices_y, prices_test)\n",
    "\n",
    "    rf = RandomForestRegressor()\n",
    "    rf.fit(prices_x,prices_y)\n",
    "    # Predict stock price for 10 future days\n",
    "    future_returns[ticker] = rf.predict(prices_test)\n",
    "\n",
    "\n",
    "\n"
   ]
  },
  {
   "cell_type": "code",
   "execution_count": 88,
   "metadata": {},
   "outputs": [
    {
     "name": "stdout",
     "output_type": "stream",
     "text": [
      "{'AAPL': 2914056404992, 'AMD': 173129809920, 'AMZN': 1306456752128, 'CCJ': 12997988352, 'COST': 231952515072, 'GOOG': 1507596042240, 'GS': 104624660480, 'JPM': 406753542144, 'LLY': 429792854016, 'META': 713643393024, 'MSFT': 2443301879808, 'NEE': 150319874048, 'PFE': 216215240704, 'SAP': 155516518400, 'WMT': 417524842496}\n"
     ]
    }
   ],
   "source": [
    "views = {}\n",
    "market_caps = {}\n",
    "for ticker in tickers:\n",
    "    views[ticker] = future_returns[ticker][-1]\n",
    "    stock = yf.Ticker(ticker)\n",
    "    market_caps[ticker] = stock.info[\"marketCap\"]\n",
    "print(market_caps)"
   ]
  },
  {
   "cell_type": "code",
   "execution_count": 89,
   "metadata": {},
   "outputs": [],
   "source": [
    "stock_prices = pd.DataFrame(stock_prices)\n",
    "S = risk_models.CovarianceShrinkage(stock_prices).ledoit_wolf()"
   ]
  },
  {
   "cell_type": "code",
   "execution_count": 90,
   "metadata": {},
   "outputs": [
    {
     "name": "stdout",
     "output_type": "stream",
     "text": [
      "[*********************100%***********************]  1 of 1 completed\n",
      "2.5716339410761435\n",
      "AAPL    0.224687\n",
      "AMD     0.270415\n",
      "AMZN    0.220906\n",
      "CCJ     0.139379\n",
      "COST    0.127587\n",
      "GOOG    0.207618\n",
      "GS      0.154056\n",
      "JPM     0.137532\n",
      "LLY     0.107819\n",
      "META    0.243027\n",
      "MSFT    0.215435\n",
      "NEE     0.112403\n",
      "PFE     0.093177\n",
      "SAP     0.156142\n",
      "WMT     0.090235\n",
      "dtype: float64\n"
     ]
    }
   ],
   "source": [
    "market_prices = yf.download(\"SPY\", period=\"max\")[\"Adj Close\"]\n",
    "delta = black_litterman.market_implied_risk_aversion(market_prices)\n",
    "print(delta)\n",
    "market_prior = black_litterman.market_implied_prior_returns(market_caps, delta, S)\n",
    "print(market_prior)"
   ]
  },
  {
   "cell_type": "code",
   "execution_count": 91,
   "metadata": {},
   "outputs": [
    {
     "name": "stdout",
     "output_type": "stream",
     "text": [
      "[0.10833333333333334, 0.125, 0.041666666666666664, 0.1, 0.08333333333333333, 0.075, 0.03333333333333333, 0.025, 0.11666666666666667, 0.058333333333333334, 0.09166666666666666, 0.06666666666666667, 0.008333333333333333, 0.016666666666666666, 0.05]\n"
     ]
    }
   ],
   "source": [
    "data = pd.DataFrame()\n",
    "for ticker in tickers:\n",
    "    stock = yf.Ticker(ticker)\n",
    "    df = stock.history(period='5y')  # Retrieve 1-year historical data\n",
    "    data[ticker] = df['Close']\n",
    "\n",
    "# Step 2: Calculate historical returns\n",
    "returns = data.pct_change().dropna()\n",
    "\n",
    "# Step 3: Calculate statistics\n",
    "returns_mean = returns.mean()\n",
    "# Step 4: Assign confidence values based on historical performance\n",
    "confidence_values = returns_mean.rank() / len(returns_mean)  # Example: Using ranking\n",
    "\n",
    "# Step 5: Normalize confidence values\n",
    "confidence_values /= confidence_values.sum()\n",
    "\n",
    "# Print confidence values\n",
    "confidence_values = confidence_values.tolist()\n",
    "print(confidence_values)"
   ]
  },
  {
   "cell_type": "code",
   "execution_count": 92,
   "metadata": {},
   "outputs": [
    {
     "name": "stdout",
     "output_type": "stream",
     "text": [
      "AAPL    0.151367\n",
      "AMD     0.167868\n",
      "AMZN    0.150293\n",
      "CCJ     0.086533\n",
      "COST    0.082817\n",
      "GOOG    0.139895\n",
      "GS      0.101957\n",
      "JPM     0.092037\n",
      "LLY     0.069686\n",
      "META    0.164167\n",
      "MSFT    0.144336\n",
      "NEE     0.073080\n",
      "PFE     0.063609\n",
      "SAP     0.104546\n",
      "WMT     0.060420\n",
      "dtype: float64\n",
      "OrderedDict([('AAPL', 0.05622), ('AMD', 0.05), ('AMZN', 0.05718), ('CCJ', 0.06226), ('COST', 0.07763), ('GOOG', 0.05952), ('GS', 0.06385), ('JPM', 0.06844), ('LLY', 0.08039), ('META', 0.05), ('MSFT', 0.05696), ('NEE', 0.07866), ('PFE', 0.08389), ('SAP', 0.06698), ('WMT', 0.08802)])\n"
     ]
    }
   ],
   "source": [
    "bl = BlackLittermanModel(S, pi=market_prior, absolute_views=views, omega=\"idzorek\", view_confidences=confidence_values)\n",
    "# Get expected returns\n",
    "ret_bl = bl.bl_returns()\n",
    "print(ret_bl)\n",
    "\n",
    "# Get cov matrix\n",
    "S_bl = bl.bl_cov()\n",
    "\n",
    "rf_ef = EfficientFrontier(ret_bl, S_bl, weight_bounds=(0.05, 0.1))\n",
    "rf_ef.add_objective(objective_functions.L2_reg)\n",
    "rf_ef.min_volatility()\n",
    "weights = rf_ef.clean_weights()\n",
    "print(weights)\n"
   ]
  },
  {
   "cell_type": "code",
   "execution_count": 103,
   "metadata": {},
   "outputs": [
    {
     "name": "stdout",
     "output_type": "stream",
     "text": [
      "44976.0\n",
      "40000.0\n",
      "45744.0\n",
      "49808.0\n",
      "62104.00000000001\n",
      "47616.0\n",
      "51080.0\n",
      "54752.0\n",
      "64312.0\n",
      "40000.0\n",
      "45568.0\n",
      "62927.99999999999\n",
      "67112.0\n",
      "53584.0\n",
      "70416.0\n"
     ]
    }
   ],
   "source": [
    "for weight in weights:\n",
    "    print(weights[weight] * 800000)"
   ]
  },
  {
   "cell_type": "code",
   "execution_count": 93,
   "metadata": {},
   "outputs": [],
   "source": [
    "future_returns = {}\n",
    "\n",
    "for ticker in tickers:\n",
    "    return_movements = np.array([1 if stock_returns[ticker][i+measurement_days] > stock_returns[ticker][i+measurement_days-1] else 0 for i in range(len(stock_returns[ticker])-measurement_days)])\n",
    "    return_movements = return_movements[measurement_days:]\n",
    "\n",
    "    logreg = LogisticRegression()\n",
    "    logreg.fit(short_window_returns[ticker][0], return_movements)\n",
    "\n",
    "    future_return_movements = logreg.predict(short_window_returns[ticker][2])\n",
    "    future_returns[ticker] = [stock_returns[ticker][-1] * (1 + movement) for movement in future_return_movements]"
   ]
  },
  {
   "cell_type": "code",
   "execution_count": 94,
   "metadata": {},
   "outputs": [
    {
     "name": "stdout",
     "output_type": "stream",
     "text": [
      "AAPL    0.144534\n",
      "AMD     0.157840\n",
      "AMZN    0.142884\n",
      "CCJ     0.082328\n",
      "COST    0.079275\n",
      "GOOG    0.131964\n",
      "GS      0.097181\n",
      "JPM     0.088013\n",
      "LLY     0.065550\n",
      "META    0.155188\n",
      "MSFT    0.137067\n",
      "NEE     0.069908\n",
      "PFE     0.060698\n",
      "SAP     0.099495\n",
      "WMT     0.058263\n",
      "dtype: float64\n",
      "OrderedDict([('AAPL', 0.05622), ('AMD', 0.05), ('AMZN', 0.05718), ('CCJ', 0.06226), ('COST', 0.07763), ('GOOG', 0.05952), ('GS', 0.06385), ('JPM', 0.06844), ('LLY', 0.08039), ('META', 0.05), ('MSFT', 0.05696), ('NEE', 0.07866), ('PFE', 0.08389), ('SAP', 0.06698), ('WMT', 0.08802)])\n"
     ]
    }
   ],
   "source": [
    "views = {}\n",
    "for ticker in tickers:\n",
    "    views[ticker] = future_returns[ticker][-1]\n",
    "\n",
    "\n",
    "logreg_bl = BlackLittermanModel(S, pi=market_prior, absolute_views=views, omega=\"idzorek\", view_confidences=confidence_values)\n",
    "# Get expected returns\n",
    "logreg_ret_bl = logreg_bl.bl_returns()\n",
    "print(logreg_ret_bl)\n",
    "\n",
    "# Get cov matrix\n",
    "logreg_S_bl = logreg_bl.bl_cov()\n",
    "\n",
    "logreg_ef = EfficientFrontier(logreg_ret_bl, logreg_S_bl, weight_bounds=(0.05, 0.1))\n",
    "logreg_ef.add_objective(objective_functions.L2_reg)\n",
    "logreg_ef.min_volatility()\n",
    "weights = logreg_ef.clean_weights()\n",
    "print(weights)"
   ]
  },
  {
   "cell_type": "code",
   "execution_count": 95,
   "metadata": {},
   "outputs": [],
   "source": [
    "future_returns = {}\n",
    "\n",
    "for ticker in tickers:\n",
    "    return_movements = np.array([1 if stock_returns[ticker][i+measurement_days] > stock_returns[ticker][i+measurement_days-1] else 0 for i in range(len(stock_returns[ticker])-measurement_days)])\n",
    "    return_movements = return_movements[measurement_days:]\n",
    "\n",
    "    svm = SVC(kernel='poly')\n",
    "    svm.fit(short_window_returns[ticker][0], return_movements)\n",
    "\n",
    "    future_return_movements = svm.predict(short_window_returns[ticker][2])\n",
    "    future_returns[ticker] = [stock_returns[ticker][-1] * (1 + movement) for movement in future_return_movements]"
   ]
  },
  {
   "cell_type": "code",
   "execution_count": 96,
   "metadata": {},
   "outputs": [
    {
     "name": "stdout",
     "output_type": "stream",
     "text": [
      "AAPL    0.144315\n",
      "AMD     0.157743\n",
      "AMZN    0.143089\n",
      "CCJ     0.082224\n",
      "COST    0.079052\n",
      "GOOG    0.131833\n",
      "GS      0.096918\n",
      "JPM     0.087692\n",
      "LLY     0.064026\n",
      "META    0.155130\n",
      "MSFT    0.136812\n",
      "NEE     0.069533\n",
      "PFE     0.059914\n",
      "SAP     0.099259\n",
      "WMT     0.058012\n",
      "dtype: float64\n",
      "OrderedDict([('AAPL', 0.05622), ('AMD', 0.05), ('AMZN', 0.05718), ('CCJ', 0.06226), ('COST', 0.07763), ('GOOG', 0.05952), ('GS', 0.06385), ('JPM', 0.06844), ('LLY', 0.08039), ('META', 0.05), ('MSFT', 0.05696), ('NEE', 0.07866), ('PFE', 0.08389), ('SAP', 0.06698), ('WMT', 0.08802)])\n"
     ]
    }
   ],
   "source": [
    "views = {}\n",
    "for ticker in tickers:\n",
    "    views[ticker] = future_returns[ticker][-1]\n",
    "\n",
    "\n",
    "svm_bl = BlackLittermanModel(S, pi=market_prior, absolute_views=views, omega=\"idzorek\", view_confidences=confidence_values)\n",
    "# Get expected returns\n",
    "svm_ret_bl = svm_bl.bl_returns()\n",
    "print(svm_ret_bl)\n",
    "\n",
    "# Get cov matrix\n",
    "svm_S_bl = svm_bl.bl_cov()\n",
    "\n",
    "svm_ef = EfficientFrontier(svm_ret_bl, svm_S_bl, weight_bounds=(0.05, 0.1))\n",
    "svm_ef.add_objective(objective_functions.L2_reg)\n",
    "svm_ef.min_volatility()\n",
    "weights = svm_ef.clean_weights()\n",
    "print(weights)"
   ]
  },
  {
   "cell_type": "code",
   "execution_count": 98,
   "metadata": {},
   "outputs": [
    {
     "name": "stdout",
     "output_type": "stream",
     "text": [
      "Expected annual return: 10.4%\n",
      "Annual volatility: 21.8%\n",
      "Sharpe Ratio: 0.39\n",
      "\n",
      "\n",
      "Expected annual return: 9.9%\n",
      "Annual volatility: 21.8%\n",
      "Sharpe Ratio: 0.36\n",
      "\n",
      "\n",
      "Expected annual return: 9.8%\n",
      "Annual volatility: 21.8%\n",
      "Sharpe Ratio: 0.36\n",
      "\n",
      "\n"
     ]
    }
   ],
   "source": [
    "rf_ef.portfolio_performance(verbose=True)\n",
    "print(\"\\n\")\n",
    "logreg_ef.portfolio_performance(verbose=True)\n",
    "print(\"\\n\")\n",
    "svm_ef.portfolio_performance(verbose=True)\n",
    "print(\"\\n\")\n",
    "\n"
   ]
  }
 ],
 "metadata": {
  "kernelspec": {
   "display_name": "Python 3",
   "language": "python",
   "name": "python3"
  },
  "language_info": {
   "codemirror_mode": {
    "name": "ipython",
    "version": 3
   },
   "file_extension": ".py",
   "mimetype": "text/x-python",
   "name": "python",
   "nbconvert_exporter": "python",
   "pygments_lexer": "ipython3",
   "version": "3.10.1"
  },
  "orig_nbformat": 4
 },
 "nbformat": 4,
 "nbformat_minor": 2
}
