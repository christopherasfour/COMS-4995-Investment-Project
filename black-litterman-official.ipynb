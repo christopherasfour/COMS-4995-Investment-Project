{
 "cells": [
  {
   "cell_type": "code",
   "execution_count": 167,
   "metadata": {},
   "outputs": [],
   "source": [
    "import yfinance as yf\n",
    "import datetime\n",
    "import pandas as pd\n",
    "import numpy as np\n",
    "from sklearn.ensemble import RandomForestRegressor\n",
    "from sklearn.linear_model import LogisticRegression\n",
    "from sklearn.svm import SVC\n",
    "from pypfopt import BlackLittermanModel, plotting\n",
    "from pypfopt import black_litterman, risk_models, objective_functions\n",
    "from pypfopt.efficient_frontier import EfficientFrontier\n",
    "from sklearn.ensemble import GradientBoostingRegressor\n",
    "from pypfopt import risk_models, expected_returns"
   ]
  },
  {
   "cell_type": "code",
   "execution_count": 168,
   "metadata": {},
   "outputs": [],
   "source": [
    "import warnings\n",
    "\n",
    "# Disable all warnings\n",
    "warnings.filterwarnings(\"ignore\")"
   ]
  },
  {
   "cell_type": "code",
   "execution_count": 169,
   "metadata": {},
   "outputs": [],
   "source": [
    "# Define the list of stock tickers\n",
    "tickers = ['AAPL', 'AMD', 'AMZN', 'CCJ', 'COST', 'GOOG', 'GS', 'JPM', 'LLY', 'META', 'MSFT', 'NEE', 'PFE', 'SAP', 'WMT']\n",
    "measurement_days = 10\n",
    "remaining_days = 30-measurement_days"
   ]
  },
  {
   "cell_type": "code",
   "execution_count": 170,
   "metadata": {},
   "outputs": [
    {
     "name": "stdout",
     "output_type": "stream",
     "text": [
      "[*********************100%***********************]  1 of 1 completed\n",
      "AAPL\n",
      "[*********************100%***********************]  1 of 1 completed\n",
      "AMD\n",
      "[*********************100%***********************]  1 of 1 completed\n",
      "AMZN\n",
      "[*********************100%***********************]  1 of 1 completed\n",
      "CCJ\n",
      "[*********************100%***********************]  1 of 1 completed\n",
      "COST\n",
      "[*********************100%***********************]  1 of 1 completed\n",
      "GOOG\n",
      "[*********************100%***********************]  1 of 1 completed\n",
      "GS\n",
      "[*********************100%***********************]  1 of 1 completed\n",
      "JPM\n",
      "[*********************100%***********************]  1 of 1 completed\n",
      "LLY\n",
      "[*********************100%***********************]  1 of 1 completed\n",
      "META\n",
      "[*********************100%***********************]  1 of 1 completed\n",
      "MSFT\n",
      "[*********************100%***********************]  1 of 1 completed\n",
      "NEE\n",
      "[*********************100%***********************]  1 of 1 completed\n",
      "PFE\n",
      "[*********************100%***********************]  1 of 1 completed\n",
      "SAP\n",
      "[*********************100%***********************]  1 of 1 completed\n",
      "WMT\n"
     ]
    }
   ],
   "source": [
    "# Fit non linear ML models to predict stock returns into future\n",
    "\n",
    "stock_returns = {}\n",
    "stock_prices = {}\n",
    "future_returns = {}\n",
    "short_window_returns = {}\n",
    "\n",
    "for ticker in tickers:\n",
    "    data = yf.download(ticker,period=\"5y\")\n",
    "    print(ticker)\n",
    "    returns = ((data['Adj Close'] / data['Adj Close'].shift(1))-1).dropna().tolist()\n",
    "    stock_returns[ticker] = returns\n",
    "\n",
    "    stock_prices[ticker] = data['Adj Close'].values\n",
    "\n",
    "    \n",
    "    prices_x = [returns[i:i+measurement_days] for i in range(len(returns)-remaining_days)]\n",
    "    prices_y = [returns[i+measurement_days] for i in range(measurement_days,len(returns)-measurement_days)]\n",
    "\n",
    "    prices_test = [returns[i:i+measurement_days] for i in range(len(returns)-remaining_days,len(returns)-measurement_days)]\n",
    "\n",
    "    short_window_returns[ticker] = (prices_x, prices_y, prices_test)\n",
    "\n",
    "    rf = RandomForestRegressor()\n",
    "    rf.fit(prices_x,prices_y)\n",
    "    # Predict stock price for 10 future days\n",
    "    future_returns[ticker] = rf.predict(prices_test)\n",
    "\n",
    "\n",
    "\n"
   ]
  },
  {
   "cell_type": "code",
   "execution_count": 171,
   "metadata": {},
   "outputs": [
    {
     "name": "stdout",
     "output_type": "stream",
     "text": [
      "{'AAPL': 3050896097280, 'AMD': 183436115968, 'AMZN': 1337545719808, 'CCJ': 13587570688, 'COST': 238582022144, 'GOOG': 1530754367488, 'GS': 107227783168, 'JPM': 425017868288, 'LLY': 445190078464, 'META': 735452266496, 'MSFT': 2532081664000, 'NEE': 150137765888, 'PFE': 207069970432, 'SAP': 159924043776, 'WMT': 423260553216}\n"
     ]
    }
   ],
   "source": [
    "views = {}\n",
    "market_caps = {}\n",
    "for ticker in tickers:\n",
    "    views[ticker] = future_returns[ticker][-1]\n",
    "    stock = yf.Ticker(ticker)\n",
    "    market_caps[ticker] = stock.info[\"marketCap\"]\n",
    "print(market_caps)"
   ]
  },
  {
   "cell_type": "code",
   "execution_count": 172,
   "metadata": {},
   "outputs": [],
   "source": [
    "stock_prices = pd.DataFrame(stock_prices)\n",
    "S = risk_models.CovarianceShrinkage(stock_prices).ledoit_wolf()"
   ]
  },
  {
   "cell_type": "code",
   "execution_count": 173,
   "metadata": {},
   "outputs": [
    {
     "name": "stdout",
     "output_type": "stream",
     "text": [
      "[*********************100%***********************]  1 of 1 completed\n",
      "2.595892559847583\n",
      "AAPL    0.227305\n",
      "AMD     0.273381\n",
      "AMZN    0.222945\n",
      "CCJ     0.140701\n",
      "COST    0.128900\n",
      "GOOG    0.209356\n",
      "GS      0.155310\n",
      "JPM     0.138731\n",
      "LLY     0.108788\n",
      "META    0.245462\n",
      "MSFT    0.217595\n",
      "NEE     0.113385\n",
      "PFE     0.093760\n",
      "SAP     0.157816\n",
      "WMT     0.091152\n",
      "dtype: float64\n"
     ]
    }
   ],
   "source": [
    "market_prices = yf.download(\"SPY\", period=\"max\")[\"Adj Close\"]\n",
    "delta = black_litterman.market_implied_risk_aversion(market_prices)\n",
    "print(delta)\n",
    "market_prior = black_litterman.market_implied_prior_returns(market_caps, delta, S)\n",
    "print(market_prior)"
   ]
  },
  {
   "cell_type": "code",
   "execution_count": 174,
   "metadata": {},
   "outputs": [
    {
     "name": "stdout",
     "output_type": "stream",
     "text": [
      "[0.10833333333333334, 0.125, 0.03333333333333333, 0.1, 0.08333333333333333, 0.075, 0.041666666666666664, 0.025, 0.11666666666666667, 0.06666666666666667, 0.09166666666666666, 0.058333333333333334, 0.008333333333333333, 0.016666666666666666, 0.05]\n"
     ]
    }
   ],
   "source": [
    "data = pd.DataFrame()\n",
    "for ticker in tickers:\n",
    "    stock = yf.Ticker(ticker)\n",
    "    df = stock.history(period='5y')  # Retrieve 1-year historical data\n",
    "    data[ticker] = df['Close']\n",
    "\n",
    "# Step 2: Calculate historical returns\n",
    "returns = data.pct_change().dropna()\n",
    "\n",
    "# Step 3: Calculate statistics\n",
    "returns_mean = returns.mean()\n",
    "# Step 4: Assign confidence values based on historical performance\n",
    "confidence_values = returns_mean.rank() / len(returns_mean)  # Example: Using ranking\n",
    "\n",
    "# Step 5: Normalize confidence values\n",
    "confidence_values /= confidence_values.sum()\n",
    "\n",
    "# Print confidence values\n",
    "confidence_values = confidence_values.tolist()\n",
    "print(confidence_values)"
   ]
  },
  {
   "cell_type": "code",
   "execution_count": 175,
   "metadata": {},
   "outputs": [
    {
     "name": "stdout",
     "output_type": "stream",
     "text": [
      "AAPL    0.153165\n",
      "AMD     0.170793\n",
      "AMZN    0.152301\n",
      "CCJ     0.086769\n",
      "COST    0.083918\n",
      "GOOG    0.141316\n",
      "GS      0.102274\n",
      "JPM     0.092479\n",
      "LLY     0.069928\n",
      "META    0.165189\n",
      "MSFT    0.145907\n",
      "NEE     0.074081\n",
      "PFE     0.063858\n",
      "SAP     0.105617\n",
      "WMT     0.061258\n",
      "dtype: float64\n",
      "OrderedDict([('AAPL', 0.05621), ('AMD', 0.05), ('AMZN', 0.05718), ('CCJ', 0.06226), ('COST', 0.07761), ('GOOG', 0.05956), ('GS', 0.06391), ('JPM', 0.06845), ('LLY', 0.08038), ('META', 0.05), ('MSFT', 0.05696), ('NEE', 0.07865), ('PFE', 0.0839), ('SAP', 0.06695), ('WMT', 0.08798)])\n"
     ]
    }
   ],
   "source": [
    "bl = BlackLittermanModel(S, pi=market_prior, absolute_views=views, omega=\"idzorek\", view_confidences=confidence_values)\n",
    "# Get expected returns\n",
    "ret_bl = bl.bl_returns()\n",
    "print(ret_bl)\n",
    "\n",
    "# Get cov matrix\n",
    "S_bl = bl.bl_cov()\n",
    "\n",
    "rf_ef = EfficientFrontier(ret_bl, S_bl, weight_bounds=(0.05, 0.1))\n",
    "rf_ef.add_objective(objective_functions.L2_reg)\n",
    "rf_ef.min_volatility()\n",
    "weights = rf_ef.clean_weights()\n",
    "print(weights)\n"
   ]
  },
  {
   "cell_type": "code",
   "execution_count": 176,
   "metadata": {},
   "outputs": [
    {
     "name": "stdout",
     "output_type": "stream",
     "text": [
      "44968.0\n",
      "40000.0\n",
      "45744.0\n",
      "49808.0\n",
      "62088.0\n",
      "47648.0\n",
      "51127.99999999999\n",
      "54760.0\n",
      "64303.99999999999\n",
      "40000.0\n",
      "45568.0\n",
      "62920.0\n",
      "67120.0\n",
      "53560.0\n",
      "70384.0\n"
     ]
    }
   ],
   "source": [
    "for weight in weights:\n",
    "    print(weights[weight] * 800000) # no more than 20% of settled cash"
   ]
  },
  {
   "cell_type": "code",
   "execution_count": 177,
   "metadata": {},
   "outputs": [],
   "source": [
    "future_returns = {}\n",
    "\n",
    "for ticker in tickers:\n",
    "    return_movements = np.array([1 if stock_returns[ticker][i+measurement_days] > stock_returns[ticker][i+measurement_days-1] else 0 for i in range(len(stock_returns[ticker])-measurement_days)])\n",
    "    return_movements = return_movements[measurement_days:]\n",
    "\n",
    "    logreg = LogisticRegression()\n",
    "    logreg.fit(short_window_returns[ticker][0], return_movements)\n",
    "\n",
    "    future_return_movements = logreg.predict(short_window_returns[ticker][2])\n",
    "    future_returns[ticker] = [stock_returns[ticker][-1] * (1 + movement) for movement in future_return_movements]"
   ]
  },
  {
   "cell_type": "code",
   "execution_count": 178,
   "metadata": {},
   "outputs": [
    {
     "name": "stdout",
     "output_type": "stream",
     "text": [
      "AAPL    0.161478\n",
      "AMD     0.182851\n",
      "AMZN    0.160396\n",
      "CCJ     0.094129\n",
      "COST    0.089714\n",
      "GOOG    0.148436\n",
      "GS      0.107803\n",
      "JPM     0.097410\n",
      "LLY     0.074239\n",
      "META    0.173657\n",
      "MSFT    0.153743\n",
      "NEE     0.078807\n",
      "PFE     0.067311\n",
      "SAP     0.111444\n",
      "WMT     0.065178\n",
      "dtype: float64\n",
      "OrderedDict([('AAPL', 0.05621), ('AMD', 0.05), ('AMZN', 0.05718), ('CCJ', 0.06226), ('COST', 0.07761), ('GOOG', 0.05956), ('GS', 0.06391), ('JPM', 0.06845), ('LLY', 0.08038), ('META', 0.05), ('MSFT', 0.05696), ('NEE', 0.07865), ('PFE', 0.0839), ('SAP', 0.06695), ('WMT', 0.08798)])\n"
     ]
    }
   ],
   "source": [
    "views = {}\n",
    "for ticker in tickers:\n",
    "    views[ticker] = future_returns[ticker][-1]\n",
    "\n",
    "\n",
    "logreg_bl = BlackLittermanModel(S, pi=market_prior, absolute_views=views, omega=\"idzorek\", view_confidences=confidence_values)\n",
    "# Get expected returns\n",
    "logreg_ret_bl = logreg_bl.bl_returns()\n",
    "print(logreg_ret_bl)\n",
    "\n",
    "# Get cov matrix\n",
    "logreg_S_bl = logreg_bl.bl_cov()\n",
    "\n",
    "logreg_ef = EfficientFrontier(logreg_ret_bl, logreg_S_bl, weight_bounds=(0.05, 0.1))\n",
    "logreg_ef.add_objective(objective_functions.L2_reg)\n",
    "logreg_ef.min_volatility()\n",
    "weights = logreg_ef.clean_weights()\n",
    "print(weights)"
   ]
  },
  {
   "cell_type": "code",
   "execution_count": 179,
   "metadata": {},
   "outputs": [],
   "source": [
    "future_returns = {}\n",
    "\n",
    "for ticker in tickers:\n",
    "    return_movements = np.array([1 if stock_returns[ticker][i+measurement_days] > stock_returns[ticker][i+measurement_days-1] else 0 for i in range(len(stock_returns[ticker])-measurement_days)])\n",
    "    return_movements = return_movements[measurement_days:]\n",
    "\n",
    "    svm = SVC(kernel='poly')\n",
    "    svm.fit(short_window_returns[ticker][0], return_movements)\n",
    "\n",
    "    future_return_movements = svm.predict(short_window_returns[ticker][2])\n",
    "    future_returns[ticker] = [stock_returns[ticker][-1] * (1 + movement) for movement in future_return_movements]"
   ]
  },
  {
   "cell_type": "code",
   "execution_count": 180,
   "metadata": {},
   "outputs": [
    {
     "name": "stdout",
     "output_type": "stream",
     "text": [
      "AAPL    0.161470\n",
      "AMD     0.182715\n",
      "AMZN    0.160322\n",
      "CCJ     0.092760\n",
      "COST    0.089190\n",
      "GOOG    0.148307\n",
      "GS      0.107508\n",
      "JPM     0.097113\n",
      "LLY     0.075168\n",
      "META    0.173612\n",
      "MSFT    0.154092\n",
      "NEE     0.078782\n",
      "PFE     0.067496\n",
      "SAP     0.111434\n",
      "WMT     0.065012\n",
      "dtype: float64\n",
      "OrderedDict([('AAPL', 0.05621), ('AMD', 0.05), ('AMZN', 0.05718), ('CCJ', 0.06226), ('COST', 0.07761), ('GOOG', 0.05956), ('GS', 0.06391), ('JPM', 0.06845), ('LLY', 0.08038), ('META', 0.05), ('MSFT', 0.05696), ('NEE', 0.07865), ('PFE', 0.0839), ('SAP', 0.06695), ('WMT', 0.08798)])\n"
     ]
    }
   ],
   "source": [
    "views = {}\n",
    "for ticker in tickers:\n",
    "    views[ticker] = future_returns[ticker][-1]\n",
    "\n",
    "\n",
    "svm_bl = BlackLittermanModel(S, pi=market_prior, absolute_views=views, omega=\"idzorek\", view_confidences=confidence_values)\n",
    "# Get expected returns\n",
    "svm_ret_bl = svm_bl.bl_returns()\n",
    "print(svm_ret_bl)\n",
    "\n",
    "# Get cov matrix\n",
    "svm_S_bl = svm_bl.bl_cov()\n",
    "\n",
    "svm_ef = EfficientFrontier(svm_ret_bl, svm_S_bl, weight_bounds=(0.05, 0.1))\n",
    "svm_ef.add_objective(objective_functions.L2_reg)\n",
    "svm_ef.min_volatility()\n",
    "weights = svm_ef.clean_weights()\n",
    "print(weights)"
   ]
  },
  {
   "cell_type": "code",
   "execution_count": 181,
   "metadata": {},
   "outputs": [],
   "source": [
    "future_returns = {}\n",
    "\n",
    "for ticker in tickers:    \n",
    "    gb = GradientBoostingRegressor()\n",
    "    gb.fit(short_window_returns[ticker][0],short_window_returns[ticker][1])\n",
    "    # Predict stock price for 10 future days\n",
    "    future_returns[ticker] = rf.predict(short_window_returns[ticker][2])"
   ]
  },
  {
   "cell_type": "code",
   "execution_count": 182,
   "metadata": {},
   "outputs": [
    {
     "name": "stdout",
     "output_type": "stream",
     "text": [
      "AAPL    0.154106\n",
      "AMD     0.171534\n",
      "AMZN    0.153352\n",
      "CCJ     0.087144\n",
      "COST    0.084724\n",
      "GOOG    0.142067\n",
      "GS      0.102752\n",
      "JPM     0.092876\n",
      "LLY     0.070395\n",
      "META    0.166447\n",
      "MSFT    0.146945\n",
      "NEE     0.074410\n",
      "PFE     0.064201\n",
      "SAP     0.106269\n",
      "WMT     0.061700\n",
      "dtype: float64\n",
      "OrderedDict([('AAPL', 0.05621), ('AMD', 0.05), ('AMZN', 0.05718), ('CCJ', 0.06226), ('COST', 0.07761), ('GOOG', 0.05956), ('GS', 0.06391), ('JPM', 0.06845), ('LLY', 0.08038), ('META', 0.05), ('MSFT', 0.05696), ('NEE', 0.07865), ('PFE', 0.0839), ('SAP', 0.06695), ('WMT', 0.08798)])\n"
     ]
    }
   ],
   "source": [
    "views = {}\n",
    "for ticker in tickers:\n",
    "    views[ticker] = future_returns[ticker][-1]\n",
    "\n",
    "\n",
    "gb_bl = BlackLittermanModel(S, pi=market_prior, absolute_views=views, omega=\"idzorek\", view_confidences=confidence_values)\n",
    "# Get expected returns\n",
    "gb_ret_bl = gb_bl.bl_returns()\n",
    "print(gb_ret_bl)\n",
    "\n",
    "# Get cov matrix\n",
    "gb_S_bl = gb_bl.bl_cov()\n",
    "\n",
    "gb_ef = EfficientFrontier(gb_ret_bl, gb_S_bl, weight_bounds=(0.05, 0.1))\n",
    "gb_ef.add_objective(objective_functions.L2_reg)\n",
    "gb_ef.min_volatility()\n",
    "weights = gb_ef.clean_weights()\n",
    "print(weights)"
   ]
  },
  {
   "cell_type": "code",
   "execution_count": 183,
   "metadata": {},
   "outputs": [
    {
     "name": "stdout",
     "output_type": "stream",
     "text": [
      "Expected annual return: 10.5%\n",
      "Annual volatility: 21.8%\n",
      "Sharpe Ratio: 0.39\n",
      "\n",
      "\n",
      "Expected annual return: 11.1%\n",
      "Annual volatility: 21.8%\n",
      "Sharpe Ratio: 0.42\n",
      "\n",
      "\n",
      "Expected annual return: 11.1%\n",
      "Annual volatility: 21.8%\n",
      "Sharpe Ratio: 0.42\n",
      "\n",
      "\n",
      "Expected annual return: 10.6%\n",
      "Annual volatility: 21.8%\n",
      "Sharpe Ratio: 0.39\n"
     ]
    },
    {
     "data": {
      "text/plain": [
       "(0.10552707889822004, 0.21773691211268306, 0.39280009102893)"
      ]
     },
     "execution_count": 183,
     "metadata": {},
     "output_type": "execute_result"
    }
   ],
   "source": [
    "rf_ef.portfolio_performance(verbose=True)\n",
    "print(\"\\n\")\n",
    "logreg_ef.portfolio_performance(verbose=True)\n",
    "print(\"\\n\")\n",
    "svm_ef.portfolio_performance(verbose=True)\n",
    "print(\"\\n\")\n",
    "gb_ef.portfolio_performance(verbose=True)\n",
    "\n"
   ]
  }
 ],
 "metadata": {
  "kernelspec": {
   "display_name": "Python 3",
   "language": "python",
   "name": "python3"
  },
  "language_info": {
   "codemirror_mode": {
    "name": "ipython",
    "version": 3
   },
   "file_extension": ".py",
   "mimetype": "text/x-python",
   "name": "python",
   "nbconvert_exporter": "python",
   "pygments_lexer": "ipython3",
   "version": "3.10.1"
  },
  "orig_nbformat": 4
 },
 "nbformat": 4,
 "nbformat_minor": 2
}
